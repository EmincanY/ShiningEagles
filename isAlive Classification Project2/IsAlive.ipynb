{
  "nbformat": 4,
  "nbformat_minor": 0,
  "metadata": {
    "colab": {
      "provenance": []
    },
    "kernelspec": {
      "name": "python3",
      "display_name": "Python 3"
    },
    "language_info": {
      "name": "python"
    },
    "gpuClass": "standard"
  },
  "cells": [
    {
      "cell_type": "markdown",
      "source": [
        "# Import Libraries"
      ],
      "metadata": {
        "id": "kC_t5kYHgIKi"
      }
    },
    {
      "cell_type": "code",
      "execution_count": 1,
      "metadata": {
        "id": "CUAjMzZxg4pr"
      },
      "outputs": [],
      "source": [
        "import numpy as np\n",
        "import pandas as pd\n",
        "\n",
        "import matplotlib.pyplot as plt\n",
        "import seaborn as sns"
      ]
    },
    {
      "cell_type": "markdown",
      "source": [
        "Column   Position\n",
        "Atrribute Name\n",
        "Definition\n",
        "Data Type\n",
        "Example\n",
        "% Null Ratios\n",
        "\n",
        "\n",
        "\n",
        "\n",
        "1\n",
        "Class\n",
        "Class (1: DIE, 2: LIVE)\n",
        "Quantitative\n",
        "1, 2\n",
        "0\n",
        "\n",
        "\n",
        "2\n",
        "Age\n",
        "Age (In Years)\n",
        "Quantitative\n",
        "34, 20, 55\n",
        "0\n",
        "\n",
        "\n",
        "3\n",
        "Sex\n",
        "Sex (1: Male, 2: Female)\n",
        "Quantitative\n",
        "1, 2\n",
        "0\n",
        "\n",
        "\n",
        "4\n",
        "Steroid\n",
        "Steroid (No: 1, Yes: 2)\n",
        "Quantitative\n",
        "1, 2\n",
        "1\n",
        "\n",
        "\n",
        "5\n",
        "Antivirals\n",
        "Antivirals (No: 1, Yes: 2)\n",
        "Quantitative\n",
        "1, 2\n",
        "0\n",
        "\n",
        "\n",
        "6\n",
        "Fatigue\n",
        "Fatigue (No: 1, Yes: 2)\n",
        "Quantitative\n",
        "1, 2\n",
        "1\n",
        "\n",
        "\n",
        "7\n",
        "Malaise\n",
        "Malaise (No: 1, Yes: 2)\n",
        "Quantitative\n",
        "1, 2\n",
        "1\n",
        "\n",
        "\n",
        "8\n",
        "Anorexia\n",
        "Anorexia (No: 1, Yes: 2)\n",
        "Quantitative\n",
        "1, 2\n",
        "1\n",
        "\n",
        "\n",
        "9\n",
        "Liver Big\n",
        "Liver Big (No: 1, Yes: 2)\n",
        "Quantitative\n",
        "1, 2\n",
        "10\n",
        "\n",
        "\n",
        "10\n",
        "Liver Firm\n",
        "Liver Firm (No: 1, Yes: 2)\n",
        "Quantitative\n",
        "1, 2\n",
        "11\n",
        "\n",
        "\n",
        "11\n",
        "Spleen Palpable\n",
        "Spleen Palpable (No: 1, Yes: 2)\n",
        "Quantitative\n",
        "1, 2\n",
        "5\n",
        "\n",
        "\n",
        "12\n",
        "Spiders\n",
        "Spiders (No: 1, Yes: 2)\n",
        "Quantitative\n",
        "1, 2\n",
        "5\n",
        "\n",
        "\n",
        "13\n",
        "Ascites\n",
        "Ascites (No: 1, Yes: 2)\n",
        "Quantitative\n",
        "1, 2\n",
        "5\n",
        "\n",
        "\n",
        "14\n",
        "Varices\n",
        "Varices (No: 1, Yes: 2)\n",
        "Quantitative\n",
        "1, 2\n",
        "5\n",
        "\n",
        "\n",
        "15\n",
        "Bilirubin\n",
        "Bilirubin\n",
        "Quantitative\n",
        "0.39, 0.80, 1.20\n",
        "6\n",
        "\n",
        "\n",
        "16\n",
        "Alk Phosphate\n",
        "Alk Phosphate\n",
        "Quantitative\n",
        "33, 80, 120\n",
        "29\n",
        "\n",
        "\n",
        "17\n",
        "Sgot\n",
        "SGOT\n",
        "Quantitative\n",
        "13, 100, 200\n",
        "4\n",
        "\n",
        "\n",
        "18\n",
        "Albumin\n",
        "Albumin\n",
        "Quantitative\n",
        "2.1, 3.0, 3.8\n",
        "16\n",
        "\n",
        "\n",
        "19\n",
        "Protime\n",
        "Protime\n",
        "Quantitative\n",
        "60, 70, 80\n",
        "67\n",
        "\n",
        "\n",
        "20\n",
        "Histology\n",
        "Histology (No: 1, Yes: 2)\n",
        "Quantitative\n",
        "1, 2\n",
        "0"
      ],
      "metadata": {
        "id": "Szncdu1Hokcz"
      }
    },
    {
      "cell_type": "markdown",
      "source": [
        "# Read & View Dataset"
      ],
      "metadata": {
        "id": "LhR5NonagMqw"
      }
    },
    {
      "cell_type": "code",
      "source": [
        "df = pd.read_csv('/content/drive/MyDrive/DataSets/hepatitis.data' , names = ['Result' ,\n",
        "                                             'Age' ,\n",
        "                                             'Sex',\n",
        "                                             'Steroid' ,\n",
        "                                             'Antivirals' , \n",
        "                                             'Fatigue' ,\n",
        "                                             'Malaise' ,\n",
        "                                             'Anorexia' ,\n",
        "                                             'Liver Big' ,\n",
        "                                             'Liver Firm' ,\n",
        "                                             'Spleen Palpable' ,\n",
        "                                             'Spiders' ,\n",
        "                                             'Ascites' ,\n",
        "                                             'Varices' ,\n",
        "                                             'Bilirubin' ,\n",
        "                                             'Alk Phosphate' ,\n",
        "                                             'SGOT' ,\n",
        "                                             'Albumin' ,\n",
        "                                             'Protime' ,\n",
        "                                             'Histology'])\n",
        "df.head()"
      ],
      "metadata": {
        "colab": {
          "base_uri": "https://localhost:8080/",
          "height": 206
        },
        "id": "sgB8jHKHhBlT",
        "outputId": "01a2dba3-de65-4a03-f779-fb5a33d96193"
      },
      "execution_count": 2,
      "outputs": [
        {
          "output_type": "execute_result",
          "data": {
            "text/plain": [
              "   Result  Age  Sex Steroid  Antivirals Fatigue Malaise Anorexia Liver Big  \\\n",
              "0       2   30    2       1           2       2       2        2         1   \n",
              "1       2   50    1       1           2       1       2        2         1   \n",
              "2       2   78    1       2           2       1       2        2         2   \n",
              "3       2   31    1       ?           1       2       2        2         2   \n",
              "4       2   34    1       2           2       2       2        2         2   \n",
              "\n",
              "  Liver Firm Spleen Palpable Spiders Ascites Varices Bilirubin Alk Phosphate  \\\n",
              "0          2               2       2       2       2      1.00            85   \n",
              "1          2               2       2       2       2      0.90           135   \n",
              "2          2               2       2       2       2      0.70            96   \n",
              "3          2               2       2       2       2      0.70            46   \n",
              "4          2               2       2       2       2      1.00             ?   \n",
              "\n",
              "  SGOT Albumin Protime  Histology  \n",
              "0   18     4.0       ?          1  \n",
              "1   42     3.5       ?          1  \n",
              "2   32     4.0       ?          1  \n",
              "3   52     4.0      80          1  \n",
              "4  200     4.0       ?          1  "
            ],
            "text/html": [
              "\n",
              "  <div id=\"df-41fd635b-dab4-463c-8192-a1da4951aadf\">\n",
              "    <div class=\"colab-df-container\">\n",
              "      <div>\n",
              "<style scoped>\n",
              "    .dataframe tbody tr th:only-of-type {\n",
              "        vertical-align: middle;\n",
              "    }\n",
              "\n",
              "    .dataframe tbody tr th {\n",
              "        vertical-align: top;\n",
              "    }\n",
              "\n",
              "    .dataframe thead th {\n",
              "        text-align: right;\n",
              "    }\n",
              "</style>\n",
              "<table border=\"1\" class=\"dataframe\">\n",
              "  <thead>\n",
              "    <tr style=\"text-align: right;\">\n",
              "      <th></th>\n",
              "      <th>Result</th>\n",
              "      <th>Age</th>\n",
              "      <th>Sex</th>\n",
              "      <th>Steroid</th>\n",
              "      <th>Antivirals</th>\n",
              "      <th>Fatigue</th>\n",
              "      <th>Malaise</th>\n",
              "      <th>Anorexia</th>\n",
              "      <th>Liver Big</th>\n",
              "      <th>Liver Firm</th>\n",
              "      <th>Spleen Palpable</th>\n",
              "      <th>Spiders</th>\n",
              "      <th>Ascites</th>\n",
              "      <th>Varices</th>\n",
              "      <th>Bilirubin</th>\n",
              "      <th>Alk Phosphate</th>\n",
              "      <th>SGOT</th>\n",
              "      <th>Albumin</th>\n",
              "      <th>Protime</th>\n",
              "      <th>Histology</th>\n",
              "    </tr>\n",
              "  </thead>\n",
              "  <tbody>\n",
              "    <tr>\n",
              "      <th>0</th>\n",
              "      <td>2</td>\n",
              "      <td>30</td>\n",
              "      <td>2</td>\n",
              "      <td>1</td>\n",
              "      <td>2</td>\n",
              "      <td>2</td>\n",
              "      <td>2</td>\n",
              "      <td>2</td>\n",
              "      <td>1</td>\n",
              "      <td>2</td>\n",
              "      <td>2</td>\n",
              "      <td>2</td>\n",
              "      <td>2</td>\n",
              "      <td>2</td>\n",
              "      <td>1.00</td>\n",
              "      <td>85</td>\n",
              "      <td>18</td>\n",
              "      <td>4.0</td>\n",
              "      <td>?</td>\n",
              "      <td>1</td>\n",
              "    </tr>\n",
              "    <tr>\n",
              "      <th>1</th>\n",
              "      <td>2</td>\n",
              "      <td>50</td>\n",
              "      <td>1</td>\n",
              "      <td>1</td>\n",
              "      <td>2</td>\n",
              "      <td>1</td>\n",
              "      <td>2</td>\n",
              "      <td>2</td>\n",
              "      <td>1</td>\n",
              "      <td>2</td>\n",
              "      <td>2</td>\n",
              "      <td>2</td>\n",
              "      <td>2</td>\n",
              "      <td>2</td>\n",
              "      <td>0.90</td>\n",
              "      <td>135</td>\n",
              "      <td>42</td>\n",
              "      <td>3.5</td>\n",
              "      <td>?</td>\n",
              "      <td>1</td>\n",
              "    </tr>\n",
              "    <tr>\n",
              "      <th>2</th>\n",
              "      <td>2</td>\n",
              "      <td>78</td>\n",
              "      <td>1</td>\n",
              "      <td>2</td>\n",
              "      <td>2</td>\n",
              "      <td>1</td>\n",
              "      <td>2</td>\n",
              "      <td>2</td>\n",
              "      <td>2</td>\n",
              "      <td>2</td>\n",
              "      <td>2</td>\n",
              "      <td>2</td>\n",
              "      <td>2</td>\n",
              "      <td>2</td>\n",
              "      <td>0.70</td>\n",
              "      <td>96</td>\n",
              "      <td>32</td>\n",
              "      <td>4.0</td>\n",
              "      <td>?</td>\n",
              "      <td>1</td>\n",
              "    </tr>\n",
              "    <tr>\n",
              "      <th>3</th>\n",
              "      <td>2</td>\n",
              "      <td>31</td>\n",
              "      <td>1</td>\n",
              "      <td>?</td>\n",
              "      <td>1</td>\n",
              "      <td>2</td>\n",
              "      <td>2</td>\n",
              "      <td>2</td>\n",
              "      <td>2</td>\n",
              "      <td>2</td>\n",
              "      <td>2</td>\n",
              "      <td>2</td>\n",
              "      <td>2</td>\n",
              "      <td>2</td>\n",
              "      <td>0.70</td>\n",
              "      <td>46</td>\n",
              "      <td>52</td>\n",
              "      <td>4.0</td>\n",
              "      <td>80</td>\n",
              "      <td>1</td>\n",
              "    </tr>\n",
              "    <tr>\n",
              "      <th>4</th>\n",
              "      <td>2</td>\n",
              "      <td>34</td>\n",
              "      <td>1</td>\n",
              "      <td>2</td>\n",
              "      <td>2</td>\n",
              "      <td>2</td>\n",
              "      <td>2</td>\n",
              "      <td>2</td>\n",
              "      <td>2</td>\n",
              "      <td>2</td>\n",
              "      <td>2</td>\n",
              "      <td>2</td>\n",
              "      <td>2</td>\n",
              "      <td>2</td>\n",
              "      <td>1.00</td>\n",
              "      <td>?</td>\n",
              "      <td>200</td>\n",
              "      <td>4.0</td>\n",
              "      <td>?</td>\n",
              "      <td>1</td>\n",
              "    </tr>\n",
              "  </tbody>\n",
              "</table>\n",
              "</div>\n",
              "      <button class=\"colab-df-convert\" onclick=\"convertToInteractive('df-41fd635b-dab4-463c-8192-a1da4951aadf')\"\n",
              "              title=\"Convert this dataframe to an interactive table.\"\n",
              "              style=\"display:none;\">\n",
              "        \n",
              "  <svg xmlns=\"http://www.w3.org/2000/svg\" height=\"24px\"viewBox=\"0 0 24 24\"\n",
              "       width=\"24px\">\n",
              "    <path d=\"M0 0h24v24H0V0z\" fill=\"none\"/>\n",
              "    <path d=\"M18.56 5.44l.94 2.06.94-2.06 2.06-.94-2.06-.94-.94-2.06-.94 2.06-2.06.94zm-11 1L8.5 8.5l.94-2.06 2.06-.94-2.06-.94L8.5 2.5l-.94 2.06-2.06.94zm10 10l.94 2.06.94-2.06 2.06-.94-2.06-.94-.94-2.06-.94 2.06-2.06.94z\"/><path d=\"M17.41 7.96l-1.37-1.37c-.4-.4-.92-.59-1.43-.59-.52 0-1.04.2-1.43.59L10.3 9.45l-7.72 7.72c-.78.78-.78 2.05 0 2.83L4 21.41c.39.39.9.59 1.41.59.51 0 1.02-.2 1.41-.59l7.78-7.78 2.81-2.81c.8-.78.8-2.07 0-2.86zM5.41 20L4 18.59l7.72-7.72 1.47 1.35L5.41 20z\"/>\n",
              "  </svg>\n",
              "      </button>\n",
              "      \n",
              "  <style>\n",
              "    .colab-df-container {\n",
              "      display:flex;\n",
              "      flex-wrap:wrap;\n",
              "      gap: 12px;\n",
              "    }\n",
              "\n",
              "    .colab-df-convert {\n",
              "      background-color: #E8F0FE;\n",
              "      border: none;\n",
              "      border-radius: 50%;\n",
              "      cursor: pointer;\n",
              "      display: none;\n",
              "      fill: #1967D2;\n",
              "      height: 32px;\n",
              "      padding: 0 0 0 0;\n",
              "      width: 32px;\n",
              "    }\n",
              "\n",
              "    .colab-df-convert:hover {\n",
              "      background-color: #E2EBFA;\n",
              "      box-shadow: 0px 1px 2px rgba(60, 64, 67, 0.3), 0px 1px 3px 1px rgba(60, 64, 67, 0.15);\n",
              "      fill: #174EA6;\n",
              "    }\n",
              "\n",
              "    [theme=dark] .colab-df-convert {\n",
              "      background-color: #3B4455;\n",
              "      fill: #D2E3FC;\n",
              "    }\n",
              "\n",
              "    [theme=dark] .colab-df-convert:hover {\n",
              "      background-color: #434B5C;\n",
              "      box-shadow: 0px 1px 3px 1px rgba(0, 0, 0, 0.15);\n",
              "      filter: drop-shadow(0px 1px 2px rgba(0, 0, 0, 0.3));\n",
              "      fill: #FFFFFF;\n",
              "    }\n",
              "  </style>\n",
              "\n",
              "      <script>\n",
              "        const buttonEl =\n",
              "          document.querySelector('#df-41fd635b-dab4-463c-8192-a1da4951aadf button.colab-df-convert');\n",
              "        buttonEl.style.display =\n",
              "          google.colab.kernel.accessAllowed ? 'block' : 'none';\n",
              "\n",
              "        async function convertToInteractive(key) {\n",
              "          const element = document.querySelector('#df-41fd635b-dab4-463c-8192-a1da4951aadf');\n",
              "          const dataTable =\n",
              "            await google.colab.kernel.invokeFunction('convertToInteractive',\n",
              "                                                     [key], {});\n",
              "          if (!dataTable) return;\n",
              "\n",
              "          const docLinkHtml = 'Like what you see? Visit the ' +\n",
              "            '<a target=\"_blank\" href=https://colab.research.google.com/notebooks/data_table.ipynb>data table notebook</a>'\n",
              "            + ' to learn more about interactive tables.';\n",
              "          element.innerHTML = '';\n",
              "          dataTable['output_type'] = 'display_data';\n",
              "          await google.colab.output.renderOutput(dataTable, element);\n",
              "          const docLink = document.createElement('div');\n",
              "          docLink.innerHTML = docLinkHtml;\n",
              "          element.appendChild(docLink);\n",
              "        }\n",
              "      </script>\n",
              "    </div>\n",
              "  </div>\n",
              "  "
            ]
          },
          "metadata": {},
          "execution_count": 2
        }
      ]
    },
    {
      "cell_type": "code",
      "source": [
        "df.shape"
      ],
      "metadata": {
        "id": "dNFCyok3hGgP",
        "colab": {
          "base_uri": "https://localhost:8080/"
        },
        "outputId": "cd8871af-b5df-45dd-8204-988bee5bf912"
      },
      "execution_count": 3,
      "outputs": [
        {
          "output_type": "execute_result",
          "data": {
            "text/plain": [
              "(155, 20)"
            ]
          },
          "metadata": {},
          "execution_count": 3
        }
      ]
    },
    {
      "cell_type": "code",
      "source": [
        "df.info()"
      ],
      "metadata": {
        "colab": {
          "base_uri": "https://localhost:8080/"
        },
        "id": "yDCeRZBIZO1s",
        "outputId": "24388056-769d-4827-c06d-2519113b7f21"
      },
      "execution_count": 4,
      "outputs": [
        {
          "output_type": "stream",
          "name": "stdout",
          "text": [
            "<class 'pandas.core.frame.DataFrame'>\n",
            "RangeIndex: 155 entries, 0 to 154\n",
            "Data columns (total 20 columns):\n",
            " #   Column           Non-Null Count  Dtype \n",
            "---  ------           --------------  ----- \n",
            " 0   Result           155 non-null    int64 \n",
            " 1   Age              155 non-null    int64 \n",
            " 2   Sex              155 non-null    int64 \n",
            " 3   Steroid          155 non-null    object\n",
            " 4   Antivirals       155 non-null    int64 \n",
            " 5   Fatigue          155 non-null    object\n",
            " 6   Malaise          155 non-null    object\n",
            " 7   Anorexia         155 non-null    object\n",
            " 8   Liver Big        155 non-null    object\n",
            " 9   Liver Firm       155 non-null    object\n",
            " 10  Spleen Palpable  155 non-null    object\n",
            " 11  Spiders          155 non-null    object\n",
            " 12  Ascites          155 non-null    object\n",
            " 13  Varices          155 non-null    object\n",
            " 14  Bilirubin        155 non-null    object\n",
            " 15  Alk Phosphate    155 non-null    object\n",
            " 16  SGOT             155 non-null    object\n",
            " 17  Albumin          155 non-null    object\n",
            " 18  Protime          155 non-null    object\n",
            " 19  Histology        155 non-null    int64 \n",
            "dtypes: int64(5), object(15)\n",
            "memory usage: 24.3+ KB\n"
          ]
        }
      ]
    },
    {
      "cell_type": "code",
      "source": [
        "df['Result'].value_counts()"
      ],
      "metadata": {
        "id": "961eahi1iUbp",
        "colab": {
          "base_uri": "https://localhost:8080/"
        },
        "outputId": "8f8cdd89-f75f-445b-e571-fe2f54525ebe"
      },
      "execution_count": 5,
      "outputs": [
        {
          "output_type": "execute_result",
          "data": {
            "text/plain": [
              "2    123\n",
              "1     32\n",
              "Name: Result, dtype: int64"
            ]
          },
          "metadata": {},
          "execution_count": 5
        }
      ]
    },
    {
      "cell_type": "code",
      "source": [
        "df.isna().sum() # Looks clear but its not. There is some ? values."
      ],
      "metadata": {
        "id": "x_o7hBYojf3r",
        "colab": {
          "base_uri": "https://localhost:8080/"
        },
        "outputId": "31df4012-57c3-4df2-e9d8-f1f7be6db5cc"
      },
      "execution_count": 6,
      "outputs": [
        {
          "output_type": "execute_result",
          "data": {
            "text/plain": [
              "Result             0\n",
              "Age                0\n",
              "Sex                0\n",
              "Steroid            0\n",
              "Antivirals         0\n",
              "Fatigue            0\n",
              "Malaise            0\n",
              "Anorexia           0\n",
              "Liver Big          0\n",
              "Liver Firm         0\n",
              "Spleen Palpable    0\n",
              "Spiders            0\n",
              "Ascites            0\n",
              "Varices            0\n",
              "Bilirubin          0\n",
              "Alk Phosphate      0\n",
              "SGOT               0\n",
              "Albumin            0\n",
              "Protime            0\n",
              "Histology          0\n",
              "dtype: int64"
            ]
          },
          "metadata": {},
          "execution_count": 6
        }
      ]
    },
    {
      "cell_type": "code",
      "source": [
        "df['Fatigue'].value_counts()"
      ],
      "metadata": {
        "colab": {
          "base_uri": "https://localhost:8080/"
        },
        "id": "Xt-eAVjdaOiW",
        "outputId": "2d98d9ab-f8de-45b3-e635-38355d98d2c2"
      },
      "execution_count": 7,
      "outputs": [
        {
          "output_type": "execute_result",
          "data": {
            "text/plain": [
              "1    100\n",
              "2     54\n",
              "?      1\n",
              "Name: Fatigue, dtype: int64"
            ]
          },
          "metadata": {},
          "execution_count": 7
        }
      ]
    },
    {
      "cell_type": "code",
      "source": [
        "df = df.applymap(lambda x: np.NaN if x == '?' else x)"
      ],
      "metadata": {
        "id": "c_OtvPWOapmI"
      },
      "execution_count": 8,
      "outputs": []
    },
    {
      "cell_type": "code",
      "source": [
        "df.isna().sum()"
      ],
      "metadata": {
        "colab": {
          "base_uri": "https://localhost:8080/"
        },
        "id": "2RRPftBIcf_F",
        "outputId": "30e4a671-3158-4bd8-987c-b588a7a96ad3"
      },
      "execution_count": 9,
      "outputs": [
        {
          "output_type": "execute_result",
          "data": {
            "text/plain": [
              "Result              0\n",
              "Age                 0\n",
              "Sex                 0\n",
              "Steroid             1\n",
              "Antivirals          0\n",
              "Fatigue             1\n",
              "Malaise             1\n",
              "Anorexia            1\n",
              "Liver Big          10\n",
              "Liver Firm         11\n",
              "Spleen Palpable     5\n",
              "Spiders             5\n",
              "Ascites             5\n",
              "Varices             5\n",
              "Bilirubin           6\n",
              "Alk Phosphate      29\n",
              "SGOT                4\n",
              "Albumin            16\n",
              "Protime            67\n",
              "Histology           0\n",
              "dtype: int64"
            ]
          },
          "metadata": {},
          "execution_count": 9
        }
      ]
    },
    {
      "cell_type": "code",
      "source": [
        "df.isna().sum().sum()"
      ],
      "metadata": {
        "colab": {
          "base_uri": "https://localhost:8080/"
        },
        "id": "YUxQQbCzcgBY",
        "outputId": "2ba3811d-a539-434a-81fa-bce1974d31e8"
      },
      "execution_count": 10,
      "outputs": [
        {
          "output_type": "execute_result",
          "data": {
            "text/plain": [
              "167"
            ]
          },
          "metadata": {},
          "execution_count": 10
        }
      ]
    },
    {
      "cell_type": "code",
      "source": [
        "df['Age'].value_counts()"
      ],
      "metadata": {
        "id": "kH3b2eAVjuuG",
        "colab": {
          "base_uri": "https://localhost:8080/"
        },
        "outputId": "99686a6d-7433-45b3-a6e1-1af5c9b2a331"
      },
      "execution_count": 11,
      "outputs": [
        {
          "output_type": "execute_result",
          "data": {
            "text/plain": [
              "30    8\n",
              "34    8\n",
              "38    8\n",
              "36    7\n",
              "51    6\n",
              "39    6\n",
              "50    6\n",
              "42    5\n",
              "54    5\n",
              "45    5\n",
              "44    5\n",
              "28    5\n",
              "37    5\n",
              "32    4\n",
              "47    4\n",
              "27    4\n",
              "31    4\n",
              "23    4\n",
              "41    3\n",
              "56    3\n",
              "33    3\n",
              "52    3\n",
              "20    3\n",
              "40    3\n",
              "61    3\n",
              "25    3\n",
              "49    3\n",
              "35    2\n",
              "22    2\n",
              "48    2\n",
              "57    2\n",
              "24    2\n",
              "58    2\n",
              "62    2\n",
              "78    1\n",
              "53    1\n",
              "46    1\n",
              "70    1\n",
              "72    1\n",
              "69    1\n",
              "7     1\n",
              "65    1\n",
              "64    1\n",
              "60    1\n",
              "59    1\n",
              "67    1\n",
              "26    1\n",
              "66    1\n",
              "43    1\n",
              "Name: Age, dtype: int64"
            ]
          },
          "metadata": {},
          "execution_count": 11
        }
      ]
    },
    {
      "cell_type": "code",
      "source": [
        "df[df['Age'] == 7]"
      ],
      "metadata": {
        "id": "8Kd7aWhpj4a8",
        "colab": {
          "base_uri": "https://localhost:8080/",
          "height": 81
        },
        "outputId": "ff0f0f50-ccb7-447f-9f94-28ee12b4d235"
      },
      "execution_count": 12,
      "outputs": [
        {
          "output_type": "execute_result",
          "data": {
            "text/plain": [
              "     Result  Age  Sex Steroid  Antivirals Fatigue Malaise Anorexia Liver Big  \\\n",
              "110       2    7    1       2           2       2       2        2         2   \n",
              "\n",
              "    Liver Firm Spleen Palpable Spiders Ascites Varices Bilirubin  \\\n",
              "110          1               1       2       2       2      0.70   \n",
              "\n",
              "    Alk Phosphate SGOT Albumin Protime  Histology  \n",
              "110           256   25     4.2     NaN          2  "
            ],
            "text/html": [
              "\n",
              "  <div id=\"df-cd31bceb-a1d5-4e93-ada6-f62d9e8d66f2\">\n",
              "    <div class=\"colab-df-container\">\n",
              "      <div>\n",
              "<style scoped>\n",
              "    .dataframe tbody tr th:only-of-type {\n",
              "        vertical-align: middle;\n",
              "    }\n",
              "\n",
              "    .dataframe tbody tr th {\n",
              "        vertical-align: top;\n",
              "    }\n",
              "\n",
              "    .dataframe thead th {\n",
              "        text-align: right;\n",
              "    }\n",
              "</style>\n",
              "<table border=\"1\" class=\"dataframe\">\n",
              "  <thead>\n",
              "    <tr style=\"text-align: right;\">\n",
              "      <th></th>\n",
              "      <th>Result</th>\n",
              "      <th>Age</th>\n",
              "      <th>Sex</th>\n",
              "      <th>Steroid</th>\n",
              "      <th>Antivirals</th>\n",
              "      <th>Fatigue</th>\n",
              "      <th>Malaise</th>\n",
              "      <th>Anorexia</th>\n",
              "      <th>Liver Big</th>\n",
              "      <th>Liver Firm</th>\n",
              "      <th>Spleen Palpable</th>\n",
              "      <th>Spiders</th>\n",
              "      <th>Ascites</th>\n",
              "      <th>Varices</th>\n",
              "      <th>Bilirubin</th>\n",
              "      <th>Alk Phosphate</th>\n",
              "      <th>SGOT</th>\n",
              "      <th>Albumin</th>\n",
              "      <th>Protime</th>\n",
              "      <th>Histology</th>\n",
              "    </tr>\n",
              "  </thead>\n",
              "  <tbody>\n",
              "    <tr>\n",
              "      <th>110</th>\n",
              "      <td>2</td>\n",
              "      <td>7</td>\n",
              "      <td>1</td>\n",
              "      <td>2</td>\n",
              "      <td>2</td>\n",
              "      <td>2</td>\n",
              "      <td>2</td>\n",
              "      <td>2</td>\n",
              "      <td>2</td>\n",
              "      <td>1</td>\n",
              "      <td>1</td>\n",
              "      <td>2</td>\n",
              "      <td>2</td>\n",
              "      <td>2</td>\n",
              "      <td>0.70</td>\n",
              "      <td>256</td>\n",
              "      <td>25</td>\n",
              "      <td>4.2</td>\n",
              "      <td>NaN</td>\n",
              "      <td>2</td>\n",
              "    </tr>\n",
              "  </tbody>\n",
              "</table>\n",
              "</div>\n",
              "      <button class=\"colab-df-convert\" onclick=\"convertToInteractive('df-cd31bceb-a1d5-4e93-ada6-f62d9e8d66f2')\"\n",
              "              title=\"Convert this dataframe to an interactive table.\"\n",
              "              style=\"display:none;\">\n",
              "        \n",
              "  <svg xmlns=\"http://www.w3.org/2000/svg\" height=\"24px\"viewBox=\"0 0 24 24\"\n",
              "       width=\"24px\">\n",
              "    <path d=\"M0 0h24v24H0V0z\" fill=\"none\"/>\n",
              "    <path d=\"M18.56 5.44l.94 2.06.94-2.06 2.06-.94-2.06-.94-.94-2.06-.94 2.06-2.06.94zm-11 1L8.5 8.5l.94-2.06 2.06-.94-2.06-.94L8.5 2.5l-.94 2.06-2.06.94zm10 10l.94 2.06.94-2.06 2.06-.94-2.06-.94-.94-2.06-.94 2.06-2.06.94z\"/><path d=\"M17.41 7.96l-1.37-1.37c-.4-.4-.92-.59-1.43-.59-.52 0-1.04.2-1.43.59L10.3 9.45l-7.72 7.72c-.78.78-.78 2.05 0 2.83L4 21.41c.39.39.9.59 1.41.59.51 0 1.02-.2 1.41-.59l7.78-7.78 2.81-2.81c.8-.78.8-2.07 0-2.86zM5.41 20L4 18.59l7.72-7.72 1.47 1.35L5.41 20z\"/>\n",
              "  </svg>\n",
              "      </button>\n",
              "      \n",
              "  <style>\n",
              "    .colab-df-container {\n",
              "      display:flex;\n",
              "      flex-wrap:wrap;\n",
              "      gap: 12px;\n",
              "    }\n",
              "\n",
              "    .colab-df-convert {\n",
              "      background-color: #E8F0FE;\n",
              "      border: none;\n",
              "      border-radius: 50%;\n",
              "      cursor: pointer;\n",
              "      display: none;\n",
              "      fill: #1967D2;\n",
              "      height: 32px;\n",
              "      padding: 0 0 0 0;\n",
              "      width: 32px;\n",
              "    }\n",
              "\n",
              "    .colab-df-convert:hover {\n",
              "      background-color: #E2EBFA;\n",
              "      box-shadow: 0px 1px 2px rgba(60, 64, 67, 0.3), 0px 1px 3px 1px rgba(60, 64, 67, 0.15);\n",
              "      fill: #174EA6;\n",
              "    }\n",
              "\n",
              "    [theme=dark] .colab-df-convert {\n",
              "      background-color: #3B4455;\n",
              "      fill: #D2E3FC;\n",
              "    }\n",
              "\n",
              "    [theme=dark] .colab-df-convert:hover {\n",
              "      background-color: #434B5C;\n",
              "      box-shadow: 0px 1px 3px 1px rgba(0, 0, 0, 0.15);\n",
              "      filter: drop-shadow(0px 1px 2px rgba(0, 0, 0, 0.3));\n",
              "      fill: #FFFFFF;\n",
              "    }\n",
              "  </style>\n",
              "\n",
              "      <script>\n",
              "        const buttonEl =\n",
              "          document.querySelector('#df-cd31bceb-a1d5-4e93-ada6-f62d9e8d66f2 button.colab-df-convert');\n",
              "        buttonEl.style.display =\n",
              "          google.colab.kernel.accessAllowed ? 'block' : 'none';\n",
              "\n",
              "        async function convertToInteractive(key) {\n",
              "          const element = document.querySelector('#df-cd31bceb-a1d5-4e93-ada6-f62d9e8d66f2');\n",
              "          const dataTable =\n",
              "            await google.colab.kernel.invokeFunction('convertToInteractive',\n",
              "                                                     [key], {});\n",
              "          if (!dataTable) return;\n",
              "\n",
              "          const docLinkHtml = 'Like what you see? Visit the ' +\n",
              "            '<a target=\"_blank\" href=https://colab.research.google.com/notebooks/data_table.ipynb>data table notebook</a>'\n",
              "            + ' to learn more about interactive tables.';\n",
              "          element.innerHTML = '';\n",
              "          dataTable['output_type'] = 'display_data';\n",
              "          await google.colab.output.renderOutput(dataTable, element);\n",
              "          const docLink = document.createElement('div');\n",
              "          docLink.innerHTML = docLinkHtml;\n",
              "          element.appendChild(docLink);\n",
              "        }\n",
              "      </script>\n",
              "    </div>\n",
              "  </div>\n",
              "  "
            ]
          },
          "metadata": {},
          "execution_count": 12
        }
      ]
    },
    {
      "cell_type": "code",
      "source": [
        "for col in df.select_dtypes(include='object').columns :\n",
        "  df[col] = df[col].dropna().astype('float64')"
      ],
      "metadata": {
        "id": "AgY-zJdzbN4W"
      },
      "execution_count": 13,
      "outputs": []
    },
    {
      "cell_type": "code",
      "source": [
        "# We can do this also with applymap or apply."
      ],
      "metadata": {
        "id": "TE9Tpnc3bRUr"
      },
      "execution_count": 14,
      "outputs": []
    },
    {
      "cell_type": "code",
      "source": [
        "df.info()"
      ],
      "metadata": {
        "colab": {
          "base_uri": "https://localhost:8080/"
        },
        "id": "RQojyVMQbRdc",
        "outputId": "2d127c3c-1a58-4db1-9541-1004bda5b9ac"
      },
      "execution_count": 15,
      "outputs": [
        {
          "output_type": "stream",
          "name": "stdout",
          "text": [
            "<class 'pandas.core.frame.DataFrame'>\n",
            "RangeIndex: 155 entries, 0 to 154\n",
            "Data columns (total 20 columns):\n",
            " #   Column           Non-Null Count  Dtype  \n",
            "---  ------           --------------  -----  \n",
            " 0   Result           155 non-null    int64  \n",
            " 1   Age              155 non-null    int64  \n",
            " 2   Sex              155 non-null    int64  \n",
            " 3   Steroid          154 non-null    float64\n",
            " 4   Antivirals       155 non-null    int64  \n",
            " 5   Fatigue          154 non-null    float64\n",
            " 6   Malaise          154 non-null    float64\n",
            " 7   Anorexia         154 non-null    float64\n",
            " 8   Liver Big        145 non-null    float64\n",
            " 9   Liver Firm       144 non-null    float64\n",
            " 10  Spleen Palpable  150 non-null    float64\n",
            " 11  Spiders          150 non-null    float64\n",
            " 12  Ascites          150 non-null    float64\n",
            " 13  Varices          150 non-null    float64\n",
            " 14  Bilirubin        149 non-null    float64\n",
            " 15  Alk Phosphate    126 non-null    float64\n",
            " 16  SGOT             151 non-null    float64\n",
            " 17  Albumin          139 non-null    float64\n",
            " 18  Protime          88 non-null     float64\n",
            " 19  Histology        155 non-null    int64  \n",
            "dtypes: float64(15), int64(5)\n",
            "memory usage: 24.3 KB\n"
          ]
        }
      ]
    },
    {
      "cell_type": "code",
      "source": [
        "import missingno as msno\n",
        "\n",
        "msno.bar(df); # 2 feature are big problem."
      ],
      "metadata": {
        "colab": {
          "base_uri": "https://localhost:8080/",
          "height": 722
        },
        "id": "3cXCF9kLbeQS",
        "outputId": "da88b467-a20d-4621-b1e6-74a60053ef69"
      },
      "execution_count": 16,
      "outputs": [
        {
          "output_type": "display_data",
          "data": {
            "text/plain": [
              "<Figure size 1800x720 with 3 Axes>"
            ],
            "image/png": "[encoded data removed]"
          },
          "metadata": {
            "needs_background": "light"
          }
        }
      ]
    },
    {
      "cell_type": "code",
      "source": [
        "msno.matrix(df);"
      ],
      "metadata": {
        "colab": {
          "base_uri": "https://localhost:8080/",
          "height": 692
        },
        "id": "P5lWLMfGdUb8",
        "outputId": "f4b67538-bee0-41bc-b6ec-e1dadaac51f7"
      },
      "execution_count": 17,
      "outputs": [
        {
          "output_type": "display_data",
          "data": {
            "text/plain": [
              "<Figure size 1800x720 with 2 Axes>"
            ],
            "image/png": "[encoded data removed]"
          },
          "metadata": {
            "needs_background": "light"
          }
        }
      ]
    },
    {
      "cell_type": "markdown",
      "source": [
        "# Data Preparing"
      ],
      "metadata": {
        "id": "22AX5Y92hgdV"
      }
    },
    {
      "cell_type": "markdown",
      "source": [
        "## Handle Missing Values"
      ],
      "metadata": {
        "id": "f4sBHuWWgyUl"
      }
    },
    {
      "cell_type": "code",
      "source": [
        "# pip install ycimpute"
      ],
      "metadata": {
        "id": "9bbFfY4Ad1Rg"
      },
      "execution_count": 18,
      "outputs": []
    },
    {
      "cell_type": "code",
      "source": [
        "from ycimpute.imputer import knnimput\n",
        "\n",
        "var_names = list(df)\n",
        "n_df = np.array(df)\n",
        "df = knnimput.KNN(k = 5).complete(n_df)\n",
        "df = pd.DataFrame(df, columns = var_names)"
      ],
      "metadata": {
        "colab": {
          "base_uri": "https://localhost:8080/"
        },
        "id": "bWzDnGbcbp3M",
        "outputId": "4b141bbf-a761-4006-e989-8861ee38793f"
      },
      "execution_count": 19,
      "outputs": [
        {
          "output_type": "stream",
          "name": "stdout",
          "text": [
            "Imputing row 1/155 with 1 missing, elapsed time: 0.008\n",
            "Imputing row 101/155 with 0 missing, elapsed time: 0.011\n"
          ]
        }
      ]
    },
    {
      "cell_type": "code",
      "source": [
        "df.isna().sum() # Perfect !"
      ],
      "metadata": {
        "colab": {
          "base_uri": "https://localhost:8080/"
        },
        "id": "dsX_ZpoVejPZ",
        "outputId": "fceb8512-69aa-485e-d10b-f001b7560434"
      },
      "execution_count": 20,
      "outputs": [
        {
          "output_type": "execute_result",
          "data": {
            "text/plain": [
              "Result             0\n",
              "Age                0\n",
              "Sex                0\n",
              "Steroid            0\n",
              "Antivirals         0\n",
              "Fatigue            0\n",
              "Malaise            0\n",
              "Anorexia           0\n",
              "Liver Big          0\n",
              "Liver Firm         0\n",
              "Spleen Palpable    0\n",
              "Spiders            0\n",
              "Ascites            0\n",
              "Varices            0\n",
              "Bilirubin          0\n",
              "Alk Phosphate      0\n",
              "SGOT               0\n",
              "Albumin            0\n",
              "Protime            0\n",
              "Histology          0\n",
              "dtype: int64"
            ]
          },
          "metadata": {},
          "execution_count": 20
        }
      ]
    },
    {
      "cell_type": "markdown",
      "source": [
        "## Determine X and Y"
      ],
      "metadata": {
        "id": "d7VrEJlohYjR"
      }
    },
    {
      "cell_type": "code",
      "source": [
        "X = df.drop('Result' , axis = 1)\n",
        "y = df['Result']"
      ],
      "metadata": {
        "id": "zaJRfpiAbtRl"
      },
      "execution_count": 21,
      "outputs": []
    },
    {
      "cell_type": "markdown",
      "source": [
        "## Smote"
      ],
      "metadata": {
        "id": "QpwOYXCjiCwD"
      }
    },
    {
      "cell_type": "code",
      "source": [
        "from imblearn.over_sampling import SMOTE\n",
        "\n",
        "oversample = SMOTE()\n",
        "\n",
        "X,y = oversample.fit_resample(X , y)"
      ],
      "metadata": {
        "id": "c4FvgUtTd7W2"
      },
      "execution_count": 22,
      "outputs": []
    },
    {
      "cell_type": "markdown",
      "source": [
        "## Train | Test Split"
      ],
      "metadata": {
        "id": "aq6UWNkpif07"
      }
    },
    {
      "cell_type": "code",
      "source": [
        "from sklearn.model_selection import train_test_split\n",
        "\n",
        "X_train , X_test , y_train , y_test = train_test_split(X , y , test_size = 0.2 , random_state = 53 , stratify = y)"
      ],
      "metadata": {
        "id": "A8evcbrfb0Cw"
      },
      "execution_count": 23,
      "outputs": []
    },
    {
      "cell_type": "markdown",
      "source": [
        "## Scaling"
      ],
      "metadata": {
        "id": "LXcSuCI8ixWN"
      }
    },
    {
      "cell_type": "code",
      "source": [
        "from sklearn.preprocessing import MinMaxScaler\n",
        "\n",
        "scaler = MinMaxScaler()\n",
        "\n",
        "X_train_scaled = scaler.fit_transform(X_train)\n",
        "X_test_scaled = scaler.transform(X_test)"
      ],
      "metadata": {
        "id": "2o0-gtrgisD7"
      },
      "execution_count": 24,
      "outputs": []
    },
    {
      "cell_type": "markdown",
      "source": [
        "# Modeling"
      ],
      "metadata": {
        "id": "Yr7X_r6KjdfK"
      }
    },
    {
      "cell_type": "markdown",
      "source": [
        "## Vanilla Models"
      ],
      "metadata": {
        "id": "Vau_UQJwnvHl"
      }
    },
    {
      "cell_type": "code",
      "source": [
        "from sklearn.model_selection import cross_val_score\n",
        "from sklearn.linear_model import LogisticRegression\n",
        "from sklearn.svm import SVC\n",
        "from sklearn.ensemble import RandomForestClassifier , GradientBoostingClassifier\n",
        "from xgboost import XGBClassifier\n",
        "from lightgbm import LGBMClassifier\n",
        "rand_seed = np.random.seed(53)\n",
        "\n",
        "def accuracy_cv(model, X_any, y_any):\n",
        "    accuracy = cross_val_score(model, X_any, y_any , scoring='accuracy', cv=5)\n",
        "    return accuracy\n",
        "\n",
        "\n",
        "models = [LogisticRegression(max_iter = 100000),\n",
        "             SVC(max_iter = 1000000),\n",
        "             RandomForestClassifier(),\n",
        "             GradientBoostingClassifier(),\n",
        "             XGBClassifier(),\n",
        "             LGBMClassifier()]\n",
        "\n",
        "\n",
        "\n",
        "names = ['LR','SV','RF','GB','XGB' , 'LGB']\n",
        "\n",
        "print('Wihout Scaled Scores : ')\n",
        "for model,name in zip(models,names):\n",
        "    score = accuracy_cv(model,X_train,y_train)\n",
        "    print(f\"{name}  -->  Accuracy : {score.mean()} ,  Std : {score.std()}\")\n",
        "\n",
        "print('\\n\\n\\n')\n",
        "\n",
        "print('With Scaled Scores : ')\n",
        "for model,name in zip(models,names):\n",
        "    score = accuracy_cv(model,X_train_scaled,y_train)\n",
        "    print(f\"{name}  -->  Accuracy : {score.mean()} ,  Std : {score.std()}\")"
      ],
      "metadata": {
        "colab": {
          "base_uri": "https://localhost:8080/"
        },
        "id": "0A48TDQri3bn",
        "outputId": "58b0cde2-efb1-436c-c915-35a2a6277e7e"
      },
      "execution_count": 25,
      "outputs": [
        {
          "output_type": "stream",
          "name": "stdout",
          "text": [
            "Wihout Scaled Scores : \n",
            "LR  -->  Accuracy : 0.8669230769230769 ,  Std : 0.07871586065885096\n",
            "SV  -->  Accuracy : 0.7342307692307692 ,  Std : 0.06323983548037172\n",
            "RF  -->  Accuracy : 0.9076923076923077 ,  Std : 0.07709382758139952\n",
            "GB  -->  Accuracy : 0.9230769230769231 ,  Std : 0.05847053462046862\n",
            "XGB  -->  Accuracy : 0.8924358974358974 ,  Std : 0.05954075836467294\n",
            "LGB  -->  Accuracy : 0.8924358974358974 ,  Std : 0.059540758364672916\n",
            "\n",
            "\n",
            "\n",
            "\n",
            "With Scaled Scores : \n",
            "LR  -->  Accuracy : 0.8567948717948719 ,  Std : 0.06238151161564612\n",
            "SV  -->  Accuracy : 0.9130769230769232 ,  Std : 0.03861848320731147\n",
            "RF  -->  Accuracy : 0.9128205128205128 ,  Std : 0.07878098202942159\n",
            "GB  -->  Accuracy : 0.9230769230769231 ,  Std : 0.05847053462046862\n",
            "XGB  -->  Accuracy : 0.8975641025641025 ,  Std : 0.06296477418080455\n",
            "LGB  -->  Accuracy : 0.8924358974358974 ,  Std : 0.059540758364672916\n"
          ]
        }
      ]
    },
    {
      "cell_type": "markdown",
      "source": [
        "## Manual Models"
      ],
      "metadata": {
        "id": "UcUyvjewnx8W"
      }
    },
    {
      "cell_type": "markdown",
      "source": [
        "### LogisticRegression"
      ],
      "metadata": {
        "id": "Y-mcvjijn1MW"
      }
    },
    {
      "cell_type": "code",
      "source": [
        "log_model = LogisticRegression(random_state = rand_seed , solver = 'liblinear' , max_iter = 10000) # liblinear works good with less data."
      ],
      "metadata": {
        "id": "cmzzBd9rjKIl"
      },
      "execution_count": 28,
      "outputs": []
    },
    {
      "cell_type": "code",
      "source": [
        "from sklearn.model_selection import GridSearchCV\n",
        "\n",
        "log_model = GridSearchCV(log_model , param_grid = {'penalty' : ['l1','l2'] , 'C' : np.linspace(1 , 10 , 100)} ,\n",
        "                         scoring = 'accuracy',\n",
        "                         cv = 5,\n",
        "                         n_jobs = -1) \n",
        "\n",
        "log_model.fit(X_train , y_train)"
      ],
      "metadata": {
        "colab": {
          "base_uri": "https://localhost:8080/"
        },
        "id": "wwTrv9bMjKK-",
        "outputId": "4ee0259d-b4e6-4612-f886-612a3b33574c"
      },
      "execution_count": 29,
      "outputs": [
        {
          "output_type": "execute_result",
          "data": {
            "text/plain": [
              "GridSearchCV(cv=5,\n",
              "             estimator=LogisticRegression(max_iter=10000, solver='liblinear'),\n",
              "             n_jobs=-1,\n",
              "             param_grid={'C': array([ 1.        ,  1.09090909,  1.18181818,  1.27272727,  1.36363636,\n",
              "        1.45454545,  1.54545455,  1.63636364,  1.72727273,  1.81818182,\n",
              "        1.90909091,  2.        ,  2.09090909,  2.18181818,  2.27272727,\n",
              "        2.36363636,  2.45454545,  2.54545455,  2.63636364,  2.72727273,\n",
              "        2.81818182,  2.90909091,  3.        ,  3.0909...\n",
              "        7.36363636,  7.45454545,  7.54545455,  7.63636364,  7.72727273,\n",
              "        7.81818182,  7.90909091,  8.        ,  8.09090909,  8.18181818,\n",
              "        8.27272727,  8.36363636,  8.45454545,  8.54545455,  8.63636364,\n",
              "        8.72727273,  8.81818182,  8.90909091,  9.        ,  9.09090909,\n",
              "        9.18181818,  9.27272727,  9.36363636,  9.45454545,  9.54545455,\n",
              "        9.63636364,  9.72727273,  9.81818182,  9.90909091, 10.        ]),\n",
              "                         'penalty': ['l1', 'l2']},\n",
              "             scoring='accuracy')"
            ]
          },
          "metadata": {},
          "execution_count": 29
        }
      ]
    },
    {
      "cell_type": "code",
      "source": [
        "log_model.best_score_"
      ],
      "metadata": {
        "colab": {
          "base_uri": "https://localhost:8080/"
        },
        "id": "LBqDI6yxjKN-",
        "outputId": "6a7a9c12-80b7-4376-b301-7bdf7c7bd1d6"
      },
      "execution_count": 30,
      "outputs": [
        {
          "output_type": "execute_result",
          "data": {
            "text/plain": [
              "0.8924358974358974"
            ]
          },
          "metadata": {},
          "execution_count": 30
        }
      ]
    },
    {
      "cell_type": "code",
      "source": [
        "log_model.best_params_"
      ],
      "metadata": {
        "colab": {
          "base_uri": "https://localhost:8080/"
        },
        "id": "HRp0uiUkjKPf",
        "outputId": "d721765b-9cb3-47ac-d51d-53d708c52694"
      },
      "execution_count": 31,
      "outputs": [
        {
          "output_type": "execute_result",
          "data": {
            "text/plain": [
              "{'C': 4.545454545454545, 'penalty': 'l1'}"
            ]
          },
          "metadata": {},
          "execution_count": 31
        }
      ]
    },
    {
      "cell_type": "markdown",
      "source": [
        "#### Evaluation"
      ],
      "metadata": {
        "id": "6J6WdZwWtgN-"
      }
    },
    {
      "cell_type": "code",
      "source": [
        "from sklearn.metrics import accuracy_score, classification_report, plot_confusion_matrix\n",
        "\n",
        "def eval_metric(model, X_train, y_train, X_test, y_test):\n",
        "    plot_confusion_matrix(model, X_test, y_test)\n",
        "    y_train_pred = model.predict(X_train)\n",
        "    y_pred = model.predict(X_test)\n",
        "    \n",
        "    print(\"Test Set\")\n",
        "    print(classification_report(y_test, y_pred), end='\\n')\n",
        "    print(\"Train Set\")\n",
        "    print(classification_report(y_train, y_train_pred))"
      ],
      "metadata": {
        "id": "jjKW8QiRjKR0"
      },
      "execution_count": 32,
      "outputs": []
    },
    {
      "cell_type": "code",
      "source": [
        "eval_metric(log_model, X_train, y_train, X_test , y_test)"
      ],
      "metadata": {
        "colab": {
          "base_uri": "https://localhost:8080/",
          "height": 681
        },
        "id": "tNlRKMFIjKUP",
        "outputId": "cd68bd45-b413-428d-87b9-5b7195158f82"
      },
      "execution_count": 33,
      "outputs": [
        {
          "output_type": "stream",
          "name": "stdout",
          "text": [
            "Test Set\n",
            "              precision    recall  f1-score   support\n",
            "\n",
            "         1.0       0.86      0.96      0.91        25\n",
            "         2.0       0.95      0.84      0.89        25\n",
            "\n",
            "    accuracy                           0.90        50\n",
            "   macro avg       0.91      0.90      0.90        50\n",
            "weighted avg       0.91      0.90      0.90        50\n",
            "\n",
            "Train Set\n",
            "              precision    recall  f1-score   support\n",
            "\n",
            "         1.0       0.92      0.97      0.95        98\n",
            "         2.0       0.97      0.92      0.94        98\n",
            "\n",
            "    accuracy                           0.94       196\n",
            "   macro avg       0.95      0.94      0.94       196\n",
            "weighted avg       0.95      0.94      0.94       196\n",
            "\n"
          ]
        },
        {
          "output_type": "stream",
          "name": "stderr",
          "text": [
            "/usr/local/lib/python3.7/dist-packages/sklearn/utils/deprecation.py:87: FutureWarning: Function plot_confusion_matrix is deprecated; Function `plot_confusion_matrix` is deprecated in 1.0 and will be removed in 1.2. Use one of the class methods: ConfusionMatrixDisplay.from_predictions or ConfusionMatrixDisplay.from_estimator.\n",
            "  warnings.warn(msg, category=FutureWarning)\n"
          ]
        },
        {
          "output_type": "display_data",
          "data": {
            "text/plain": [
              "<Figure size 432x288 with 2 Axes>"
            ],
            "image/png": "[encoded data removed]"
          },
          "metadata": {
            "needs_background": "light"
          }
        }
      ]
    },
    {
      "cell_type": "code",
      "source": [
        "# LogisticRegression Done."
      ],
      "metadata": {
        "id": "Wyo62ULVtuVa"
      },
      "execution_count": null,
      "outputs": []
    },
    {
      "cell_type": "markdown",
      "source": [
        "### SVM"
      ],
      "metadata": {
        "id": "qzHMH9uWux-R"
      }
    },
    {
      "cell_type": "code",
      "source": [
        "svc_model = SVC()"
      ],
      "metadata": {
        "id": "dbiiU2EHtuX0"
      },
      "execution_count": 41,
      "outputs": []
    },
    {
      "cell_type": "code",
      "source": [
        "svc_model = GridSearchCV(svc_model , param_grid = { 'C' : np.linspace(0.01,3,30),\n",
        "                                       'kernel' : ['linear' , 'poly', 'rbf'],\n",
        "                                       'degree' : [2,3,4,5] ,\n",
        "                                       'gamma' : ['scale' , 'auto']} ,\n",
        "                   scoring = 'accuracy' ,\n",
        "                   cv = 5 ,\n",
        "                   n_jobs = -1)\n",
        "\n",
        "svc_model.fit(X_train_scaled , y_train)"
      ],
      "metadata": {
        "colab": {
          "base_uri": "https://localhost:8080/"
        },
        "id": "ZmjVSjmgu2DJ",
        "outputId": "eff3a2b2-1aca-4215-e5e7-429b40d950c1"
      },
      "execution_count": 42,
      "outputs": [
        {
          "output_type": "execute_result",
          "data": {
            "text/plain": [
              "GridSearchCV(cv=5, estimator=SVC(), n_jobs=-1,\n",
              "             param_grid={'C': array([0.01      , 0.11310345, 0.2162069 , 0.31931034, 0.42241379,\n",
              "       0.52551724, 0.62862069, 0.73172414, 0.83482759, 0.93793103,\n",
              "       1.04103448, 1.14413793, 1.24724138, 1.35034483, 1.45344828,\n",
              "       1.55655172, 1.65965517, 1.76275862, 1.86586207, 1.96896552,\n",
              "       2.07206897, 2.17517241, 2.27827586, 2.38137931, 2.48448276,\n",
              "       2.58758621, 2.69068966, 2.7937931 , 2.89689655, 3.        ]),\n",
              "                         'degree': [2, 3, 4, 5], 'gamma': ['scale', 'auto'],\n",
              "                         'kernel': ['linear', 'poly', 'rbf']},\n",
              "             scoring='accuracy')"
            ]
          },
          "metadata": {},
          "execution_count": 42
        }
      ]
    },
    {
      "cell_type": "code",
      "source": [
        "svc_model.best_score_"
      ],
      "metadata": {
        "colab": {
          "base_uri": "https://localhost:8080/"
        },
        "id": "sIqb1Kj_u2Fp",
        "outputId": "2d4c0cf5-fef2-470f-a2fb-cc044167876c"
      },
      "execution_count": 43,
      "outputs": [
        {
          "output_type": "execute_result",
          "data": {
            "text/plain": [
              "0.9283333333333333"
            ]
          },
          "metadata": {},
          "execution_count": 43
        }
      ]
    },
    {
      "cell_type": "code",
      "source": [
        "svc_model.best_params_"
      ],
      "metadata": {
        "colab": {
          "base_uri": "https://localhost:8080/"
        },
        "id": "GvCzG2Mdu2IL",
        "outputId": "5d7d8565-35f1-40a8-e59a-33ac75f00343"
      },
      "execution_count": 44,
      "outputs": [
        {
          "output_type": "execute_result",
          "data": {
            "text/plain": [
              "{'C': 1.8658620689655172, 'degree': 2, 'gamma': 'scale', 'kernel': 'rbf'}"
            ]
          },
          "metadata": {},
          "execution_count": 44
        }
      ]
    },
    {
      "cell_type": "markdown",
      "source": [
        "#### Evaluation"
      ],
      "metadata": {
        "id": "CAnAkmElwM9U"
      }
    },
    {
      "cell_type": "code",
      "source": [
        "eval_metric(svc_model , X_train_scaled , y_train , X_test_scaled , y_test)"
      ],
      "metadata": {
        "colab": {
          "base_uri": "https://localhost:8080/",
          "height": 685
        },
        "id": "_IM8EZl_u2Kq",
        "outputId": "f5fbc2dd-a715-4d13-bbdc-d51130e197bd"
      },
      "execution_count": 45,
      "outputs": [
        {
          "output_type": "stream",
          "name": "stdout",
          "text": [
            "Test Set\n",
            "              precision    recall  f1-score   support\n",
            "\n",
            "         1.0       0.89      1.00      0.94        25\n",
            "         2.0       1.00      0.88      0.94        25\n",
            "\n",
            "    accuracy                           0.94        50\n",
            "   macro avg       0.95      0.94      0.94        50\n",
            "weighted avg       0.95      0.94      0.94        50\n",
            "\n",
            "Train Set\n",
            "              precision    recall  f1-score   support\n",
            "\n",
            "         1.0       1.00      0.99      0.99        98\n",
            "         2.0       0.99      1.00      0.99        98\n",
            "\n",
            "    accuracy                           0.99       196\n",
            "   macro avg       0.99      0.99      0.99       196\n",
            "weighted avg       0.99      0.99      0.99       196\n",
            "\n"
          ]
        },
        {
          "output_type": "stream",
          "name": "stderr",
          "text": [
            "/usr/local/lib/python3.7/dist-packages/sklearn/utils/deprecation.py:87: FutureWarning: Function plot_confusion_matrix is deprecated; Function `plot_confusion_matrix` is deprecated in 1.0 and will be removed in 1.2. Use one of the class methods: ConfusionMatrixDisplay.from_predictions or ConfusionMatrixDisplay.from_estimator.\n",
            "  warnings.warn(msg, category=FutureWarning)\n"
          ]
        },
        {
          "output_type": "display_data",
          "data": {
            "text/plain": [
              "<Figure size 432x288 with 2 Axes>"
            ],
            "image/png": "[encoded data removed]"
          },
          "metadata": {
            "needs_background": "light"
          }
        }
      ]
    },
    {
      "cell_type": "code",
      "source": [
        "# SVM Done."
      ],
      "metadata": {
        "id": "v2xT0jWZu2NE"
      },
      "execution_count": null,
      "outputs": []
    },
    {
      "cell_type": "markdown",
      "source": [
        "### Random Forest"
      ],
      "metadata": {
        "id": "7wnyJVLkwm_x"
      }
    },
    {
      "cell_type": "code",
      "source": [
        "rf_model = RandomForestClassifier()"
      ],
      "metadata": {
        "id": "a8QQlFiRu2PY"
      },
      "execution_count": 70,
      "outputs": []
    },
    {
      "cell_type": "code",
      "source": [
        "param_grid = {'n_estimators':[50, 64, 100, 128, 300 , 500],     \n",
        "             'max_features':[2, 3, 4, \"auto\"],\n",
        "             'max_depth':[3, 5, 7, 9 , None],\n",
        "             'min_samples_split':[2, 5, 8]}\n",
        "\n",
        "\n",
        "rf_model = GridSearchCV(rf_model , param_grid = param_grid ,\n",
        "                        scoring = 'accuracy' ,\n",
        "                        cv = 5 , \n",
        "                        n_jobs = -1)\n",
        "\n",
        "rf_model.fit(X_train , y_train)"
      ],
      "metadata": {
        "colab": {
          "base_uri": "https://localhost:8080/"
        },
        "id": "gcOkRDBnu2Rn",
        "outputId": "58f92a98-7f82-4678-a826-a77faf805ec7"
      },
      "execution_count": 71,
      "outputs": [
        {
          "output_type": "execute_result",
          "data": {
            "text/plain": [
              "GridSearchCV(cv=5, estimator=RandomForestClassifier(), n_jobs=-1,\n",
              "             param_grid={'max_depth': [3, 5, 7, 9, None],\n",
              "                         'max_features': [2, 3, 4, 'auto'],\n",
              "                         'min_samples_split': [2, 5, 8],\n",
              "                         'n_estimators': [50, 64, 100, 128, 300, 500]},\n",
              "             scoring='accuracy')"
            ]
          },
          "metadata": {},
          "execution_count": 71
        }
      ]
    },
    {
      "cell_type": "code",
      "source": [
        "rf_model.best_score_"
      ],
      "metadata": {
        "colab": {
          "base_uri": "https://localhost:8080/"
        },
        "id": "_K0HEO2pu2Yu",
        "outputId": "99455971-f742-4dfa-c5a0-bb20aa310c31"
      },
      "execution_count": 72,
      "outputs": [
        {
          "output_type": "execute_result",
          "data": {
            "text/plain": [
              "0.9282051282051282"
            ]
          },
          "metadata": {},
          "execution_count": 72
        }
      ]
    },
    {
      "cell_type": "code",
      "source": [
        "rf_model.best_params_"
      ],
      "metadata": {
        "colab": {
          "base_uri": "https://localhost:8080/"
        },
        "id": "U3CrSVUou2bU",
        "outputId": "fa954382-4486-4cad-99a9-a1d758f2a370"
      },
      "execution_count": 73,
      "outputs": [
        {
          "output_type": "execute_result",
          "data": {
            "text/plain": [
              "{'max_depth': 7,\n",
              " 'max_features': 2,\n",
              " 'min_samples_split': 2,\n",
              " 'n_estimators': 128}"
            ]
          },
          "metadata": {},
          "execution_count": 73
        }
      ]
    },
    {
      "cell_type": "markdown",
      "source": [
        "#### Evaluation"
      ],
      "metadata": {
        "id": "bUGeAfes1zBp"
      }
    },
    {
      "cell_type": "code",
      "source": [
        "eval_metric(rf_model , X_train , y_train , X_test , y_test)"
      ],
      "metadata": {
        "colab": {
          "base_uri": "https://localhost:8080/",
          "height": 685
        },
        "id": "FS0NMJVEu2dj",
        "outputId": "9af4ab6c-4b8e-4ce6-fb5e-6f49b279c5e2"
      },
      "execution_count": 74,
      "outputs": [
        {
          "output_type": "stream",
          "name": "stderr",
          "text": [
            "/usr/local/lib/python3.7/dist-packages/sklearn/utils/deprecation.py:87: FutureWarning: Function plot_confusion_matrix is deprecated; Function `plot_confusion_matrix` is deprecated in 1.0 and will be removed in 1.2. Use one of the class methods: ConfusionMatrixDisplay.from_predictions or ConfusionMatrixDisplay.from_estimator.\n",
            "  warnings.warn(msg, category=FutureWarning)\n"
          ]
        },
        {
          "output_type": "stream",
          "name": "stdout",
          "text": [
            "Test Set\n",
            "              precision    recall  f1-score   support\n",
            "\n",
            "         1.0       0.86      1.00      0.93        25\n",
            "         2.0       1.00      0.84      0.91        25\n",
            "\n",
            "    accuracy                           0.92        50\n",
            "   macro avg       0.93      0.92      0.92        50\n",
            "weighted avg       0.93      0.92      0.92        50\n",
            "\n",
            "Train Set\n",
            "              precision    recall  f1-score   support\n",
            "\n",
            "         1.0       1.00      0.99      0.99        98\n",
            "         2.0       0.99      1.00      0.99        98\n",
            "\n",
            "    accuracy                           0.99       196\n",
            "   macro avg       0.99      0.99      0.99       196\n",
            "weighted avg       0.99      0.99      0.99       196\n",
            "\n"
          ]
        },
        {
          "output_type": "display_data",
          "data": {
            "text/plain": [
              "<Figure size 432x288 with 2 Axes>"
            ],
            "image/png": "[encoded data removed]"
          },
          "metadata": {
            "needs_background": "light"
          }
        }
      ]
    },
    {
      "cell_type": "code",
      "source": [
        "# RF Done"
      ],
      "metadata": {
        "id": "fZiWSmVYtuml"
      },
      "execution_count": null,
      "outputs": []
    },
    {
      "cell_type": "code",
      "source": [
        "# Done for now."
      ],
      "metadata": {
        "id": "AGMj3jbvmR-6"
      },
      "execution_count": null,
      "outputs": []
    }
  ]
}